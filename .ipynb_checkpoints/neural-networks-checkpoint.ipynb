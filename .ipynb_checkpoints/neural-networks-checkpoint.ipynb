{
 "cells": [
  {
   "cell_type": "markdown",
   "metadata": {},
   "source": [
    "### Perceptron\n",
    "\n",
    "From [brilliant.org](https://brilliant.org/practice/perceptron-limitations/?chapter=perceptrons):\n",
    "\n",
    "The **perceptron** algorithm **divides a vector space into two classes**. Colloquially speaking, for it to succeed on all points in training data, the **points must be completely separable**. This is known as **linear separability**, as we seek to find lines (or higher-dimensional equivalents) that correctly classify all of the data.\n",
    "\n",
    "The reason we use linear models is that they have many nice properties. For example, linear models are simple and have few parameters to learn, thus requiring less training data to learn reliably. Moreover, linear models are visually and intuitively appealing, providing intuition on understanding the structure of the decision boundaries. However, because they’re so simple, the perceptron algorithm has several limitations (see section Limitations of perceptron)."
   ]
  },
  {
   "cell_type": "markdown",
   "metadata": {},
   "source": [
    "#### Define `perceptron`"
   ]
  },
  {
   "cell_type": "code",
   "execution_count": 81,
   "metadata": {
    "ExecuteTime": {
     "end_time": "2019-03-08T03:58:52.883771Z",
     "start_time": "2019-03-08T03:58:52.856746Z"
    }
   },
   "outputs": [],
   "source": [
    "import numpy as np\n",
    "\n",
    "def perceptron(w, x, y, i, iteration, max_i, cycle_error,\n",
    "              print_details=False):\n",
    "    \"\"\"\n",
    "    function emulating the logic of perceptron\n",
    "    \n",
    "    loss function is calculated as [[ y_i*(w dot x_i + b) <= 0 ]]\n",
    "    if misclassified (loss == True), adjust weights and bias\n",
    "    call the algorithm recursively until 'max_iterations' is reached\n",
    "    \n",
    "    param: w   -- np.array -- vector of weights (free term 'b' is included)\n",
    "    param: x   -- np.array -- array of vectors (arrays) of inputs\n",
    "                              (free term 'b' is included)\n",
    "    param: y   -- boolean  -- array of labelled results\n",
    "    param: i   -- int      -- current data point\n",
    "    param: iteration -- int -- current iteration of the algorithm\n",
    "    param: max_i     -- int -- max number of iterations allowed\n",
    "    param: cycle_error -- float -- sum of all errors in this cycle\n",
    "    \n",
    "    kwarg: print_details -- boolean -- print details of each iteration\n",
    "                                       (default=False)\n",
    "    \n",
    "    global variable: losses -- int -- number of losses \n",
    "                                      (updated by this function)\n",
    "    global variable: runs   -- int -- number of iterations\n",
    "                                      (updated by this function)\n",
    "    global variable: cycle -- int  -- current cycle\n",
    "                                      (updated by this function)\n",
    "    global variable: error_dict -- dict -- dictionary with total error\n",
    "                                           from each cycle\n",
    "    \n",
    "    returns: perceptron(w, x, y, i) -- recursively calls itself\n",
    "                                                  until 'max_i'\n",
    "                                                  is reached\n",
    "    \"\"\"\n",
    "    # global variables -- number of losses, number of runs\n",
    "    global losses, runs, cycle, error_dict\n",
    "    \n",
    "    # print headers\n",
    "    if iteration == 0: print(\"\\n----- Perceptron -----\")\n",
    "      \n",
    "    # classification -- w dot x_i (term 'b' included as last in 'w' and 'x')\n",
    "    classi = w.dot(x[i])\n",
    "    \n",
    "    # calculate the loss function\n",
    "    loss = y[i] * classi <= 0\n",
    "    \n",
    "    if print_details:\n",
    "        print(\"\\n---Iteration #\", iteration, \":\")\n",
    "        print(\"loss({0}) = y_i({1}) * w({2}) dot x_i({3})\"\n",
    "              .format(loss, y[i], w, x[i]))\n",
    "        print(\"w dot x_i = \", classi)\n",
    "    \n",
    "    # if misclassified, adjust weights\n",
    "    if loss:\n",
    "        # add error to 'cycle_error'\n",
    "        cycle_error += abs(classi)\n",
    "        # THIS PART MIGHT CAUSE ERRORS DUE TO +=\n",
    "        w += y[i] * x[i] # adjust vector of weights\n",
    "        losses += 1\n",
    "        \n",
    "        if print_details:\n",
    "            print(\"Error =\", abs(classi))\n",
    "            print(\"Adjusted wights:\", w)\n",
    "    \n",
    "    # count iterations\n",
    "    iteration += 1\n",
    "    runs = iteration\n",
    "    # move to next data point\n",
    "    i += 1\n",
    "    # reset 'i', if reached the end of 'x'\n",
    "    if i == len(x):\n",
    "        print(\"\\n--Cycle #{0} completed. From {1:,} records, {2:,}({3:.2f}%) \\\n",
    "were misclassified.\\n\".format(cycle, i, losses, losses / i * 100))\n",
    "        print(\"Total cycle error =\", cycle_error)\n",
    "        if losses == 0:\n",
    "            print(\"No records misclasified on this cycle. Exiting...\")\n",
    "            return\n",
    "        losses = 0      # reset losses for the next cycle\n",
    "        error_dict[cycle] = cycle_error # add cycle error to global 'error_dict'\n",
    "        cycle_error = 0 # reset error for the next cycle\n",
    "        i = 0           # reset 'i' for the next cycle\n",
    "        cycle += 1      # count cycles\n",
    "        \n",
    "    # continue until 'max_iterations' is reached\n",
    "    if i < max_i:\n",
    "        return perceptron(w, x, y, i, iteration, max_i, cycle_error, \n",
    "                          print_details=print_details)\n",
    "    else:\n",
    "        print(\"Max iterations reached, stopping...\")\n",
    "        return"
   ]
  },
  {
   "cell_type": "markdown",
   "metadata": {},
   "source": [
    "#### Define `plot_error`"
   ]
  },
  {
   "cell_type": "code",
   "execution_count": 114,
   "metadata": {
    "ExecuteTime": {
     "end_time": "2019-03-08T04:06:38.880808Z",
     "start_time": "2019-03-08T04:06:38.865846Z"
    }
   },
   "outputs": [],
   "source": [
    "from pandas import Series\n",
    "import matplotlib.pyplot as plt\n",
    "\n",
    "def plot_error():\n",
    "    \"\"\"\n",
    "    function to plot error from each cycle\n",
    "    \"\"\"\n",
    "    global error_dict\n",
    "    error_se = Series(error_dict)\n",
    "    \n",
    "    f, ax = plt.subplots(1, figsize=(6, 6))\n",
    "    ax.set_title(\"Total error by cycle\")\n",
    "    ax.set_xlabel(\"Cycle number\")\n",
    "    ax.set_ylabel(\"Sum of abs of all errors\")\n",
    "    ax.set_xticks(np.arange(len(error_se) + 1))\n",
    "    plt.plot(error_se, color='red')\n",
    "    ax.fill_between(x=error_se.index, y1=error_se, y2=0, \n",
    "                    color='red', alpha=0.1)\n",
    "    plt.show()"
   ]
  },
  {
   "cell_type": "markdown",
   "metadata": {},
   "source": [
    "#### No bias term"
   ]
  },
  {
   "cell_type": "code",
   "execution_count": 82,
   "metadata": {
    "ExecuteTime": {
     "end_time": "2019-03-08T03:58:53.921265Z",
     "start_time": "2019-03-08T03:58:53.887236Z"
    }
   },
   "outputs": [
    {
     "name": "stdout",
     "output_type": "stream",
     "text": [
      "Starting weights -- vector w(0): [0. 0. 0.]\n",
      "\n",
      "Data points -- vectors x_i:\n",
      " [[-1.  1.  1.]\n",
      " [ 0. -1.  1.]\n",
      " [10.  1.  1.]]\n",
      "\n",
      "Results -- set of y: [ 1. -1.  1.]\n",
      "\n",
      "----- Perceptron -----\n",
      "\n",
      "---Iteration # 0 :\n",
      "loss(True) = y_i(1.0) * w([0. 0. 0.]) dot x_i([-1.  1.  1.])\n",
      "w dot x_i =  0.0\n",
      "Error = 0.0\n",
      "Adjusted wights: [-1.  1.  1.]\n",
      "\n",
      "---Iteration # 1 :\n",
      "loss(True) = y_i(-1.0) * w([-1.  1.  1.]) dot x_i([ 0. -1.  1.])\n",
      "w dot x_i =  0.0\n",
      "Error = 0.0\n",
      "Adjusted wights: [-1.  2.  0.]\n",
      "\n",
      "---Iteration # 2 :\n",
      "loss(True) = y_i(1.0) * w([-1.  2.  0.]) dot x_i([10.  1.  1.])\n",
      "w dot x_i =  -8.0\n",
      "Error = 8.0\n",
      "Adjusted wights: [9. 3. 1.]\n",
      "\n",
      "--Cycle #1 completed. From 3 records, 3(100.00%) were misclassified.\n",
      "\n",
      "Total cycle error = 8.0\n",
      "\n",
      "---Iteration # 3 :\n",
      "loss(True) = y_i(1.0) * w([9. 3. 1.]) dot x_i([-1.  1.  1.])\n",
      "w dot x_i =  -5.0\n",
      "Error = 5.0\n",
      "Adjusted wights: [8. 4. 2.]\n",
      "\n",
      "---Iteration # 4 :\n",
      "loss(False) = y_i(-1.0) * w([8. 4. 2.]) dot x_i([ 0. -1.  1.])\n",
      "w dot x_i =  -2.0\n",
      "\n",
      "---Iteration # 5 :\n",
      "loss(False) = y_i(1.0) * w([8. 4. 2.]) dot x_i([10.  1.  1.])\n",
      "w dot x_i =  86.0\n",
      "\n",
      "--Cycle #2 completed. From 3 records, 1(33.33%) were misclassified.\n",
      "\n",
      "Total cycle error = 5.0\n",
      "\n",
      "---Iteration # 6 :\n",
      "loss(True) = y_i(1.0) * w([8. 4. 2.]) dot x_i([-1.  1.  1.])\n",
      "w dot x_i =  -2.0\n",
      "Error = 2.0\n",
      "Adjusted wights: [7. 5. 3.]\n",
      "\n",
      "---Iteration # 7 :\n",
      "loss(False) = y_i(-1.0) * w([7. 5. 3.]) dot x_i([ 0. -1.  1.])\n",
      "w dot x_i =  -2.0\n",
      "\n",
      "---Iteration # 8 :\n",
      "loss(False) = y_i(1.0) * w([7. 5. 3.]) dot x_i([10.  1.  1.])\n",
      "w dot x_i =  78.0\n",
      "\n",
      "--Cycle #3 completed. From 3 records, 1(33.33%) were misclassified.\n",
      "\n",
      "Total cycle error = 2.0\n",
      "\n",
      "---Iteration # 9 :\n",
      "loss(False) = y_i(1.0) * w([7. 5. 3.]) dot x_i([-1.  1.  1.])\n",
      "w dot x_i =  1.0\n",
      "\n",
      "---Iteration # 10 :\n",
      "loss(False) = y_i(-1.0) * w([7. 5. 3.]) dot x_i([ 0. -1.  1.])\n",
      "w dot x_i =  -2.0\n",
      "\n",
      "---Iteration # 11 :\n",
      "loss(False) = y_i(1.0) * w([7. 5. 3.]) dot x_i([10.  1.  1.])\n",
      "w dot x_i =  78.0\n",
      "\n",
      "--Cycle #4 completed. From 3 records, 0(0.00%) were misclassified.\n",
      "\n",
      "Total cycle error = 0\n",
      "No records misclasified on this cycle. Exiting...\n"
     ]
    }
   ],
   "source": [
    "i = 0                # variable to track current data point\n",
    "cycle = 1        # variable to track number of the cycle\n",
    "iteration = 0        # starting value for iteration tracking\n",
    "max_i = 100           # max iterations allowed \n",
    "losses = 0           # var to track number of losses per cycle, updated by func\n",
    "cycle_error = 0      # var to track total cycle error\n",
    "runs = 0             # var to track total number of runs, updated by function\n",
    "error_dict = dict()  # dictionary to store total error from each cycle\n",
    "\n",
    "# starting vector of weights \n",
    "# (last coordinate represents 'b' from 'w * x_i + b')\n",
    "w = np.array([0., 0., 0.])\n",
    "\n",
    "# set of vectors of points (last coordinate represents 'b' from 'w * x_i + b')\n",
    "x = np.array(\n",
    "    [np.array([-1., 1., 1.]),\n",
    "     np.array([0., -1., 1.]),\n",
    "     np.array([10, 1., 1.])]\n",
    "    )\n",
    "\n",
    "# set of results\n",
    "y = np.array([1., -1., 1.])\n",
    "\n",
    "print(\"Starting weights -- vector w(0):\", w)\n",
    "print(\"\\nData points -- vectors x_i:\\n\", x)\n",
    "print(\"\\nResults -- set of y:\", y)\n",
    "\n",
    "perceptron(w, x, y, i, iteration, max_i, cycle_error, print_details=True)"
   ]
  },
  {
   "cell_type": "code",
   "execution_count": 83,
   "metadata": {
    "ExecuteTime": {
     "end_time": "2019-03-08T03:58:58.220379Z",
     "start_time": "2019-03-08T03:58:58.215426Z"
    }
   },
   "outputs": [],
   "source": [
    "from pandas import Series\n",
    "import matplotlib.pyplot as plt"
   ]
  },
  {
   "cell_type": "code",
   "execution_count": 115,
   "metadata": {
    "ExecuteTime": {
     "end_time": "2019-03-08T04:06:39.494182Z",
     "start_time": "2019-03-08T04:06:39.194205Z"
    }
   },
   "outputs": [
    {
     "data": {
      "image/png": "[encoded data removed]",
      "text/plain": [
       "<Figure size 432x432 with 1 Axes>"
      ]
     },
     "metadata": {
      "needs_background": "light"
     },
     "output_type": "display_data"
    }
   ],
   "source": [
    "plot_error()"
   ]
  },
  {
   "cell_type": "markdown",
   "metadata": {},
   "source": [
    "#### Training sets with outliers"
   ]
  },
  {
   "cell_type": "code",
   "execution_count": 61,
   "metadata": {
    "ExecuteTime": {
     "end_time": "2019-03-08T03:42:26.634719Z",
     "start_time": "2019-03-08T03:42:26.607689Z"
    }
   },
   "outputs": [
    {
     "name": "stdout",
     "output_type": "stream",
     "text": [
      "Starting weights -- vector w(0): [0 0 0]\n",
      "\n",
      "Data points -- vectors x_i:\n",
      " [[-1  1  1]\n",
      " [ 0 -1  1]\n",
      " [10  1  1]]\n",
      "\n",
      "Results -- set of y: [ 1 -1  1]\n",
      "\n",
      "----- Perceptron -----\n",
      "\n",
      "---Iteration # 0 :\n",
      "loss(True) = y_i(1) * w([0 0 0]) dot x_i([-1  1  1])\n",
      "w dot x_i =  0\n",
      "Error = 0\n",
      "Adjusted wights: [-1  1  1]\n",
      "\n",
      "---Iteration # 1 :\n",
      "loss(True) = y_i(-1) * w([-1  1  1]) dot x_i([ 0 -1  1])\n",
      "w dot x_i =  0\n",
      "Error = 0\n",
      "Adjusted wights: [-1  2  0]\n",
      "\n",
      "---Iteration # 2 :\n",
      "loss(True) = y_i(1) * w([-1  2  0]) dot x_i([10  1  1])\n",
      "w dot x_i =  -8\n",
      "Error = 8\n",
      "Adjusted wights: [9 3 1]\n",
      "\n",
      "--Cycle #1 completed. From 3 records, 3(100.00%) were misclassified.\n",
      "\n",
      "Total cycle error = 8\n",
      "\n",
      "---Iteration # 3 :\n",
      "loss(True) = y_i(1) * w([9 3 1]) dot x_i([-1  1  1])\n",
      "w dot x_i =  -5\n",
      "Error = 5\n",
      "Adjusted wights: [8 4 2]\n",
      "\n",
      "---Iteration # 4 :\n",
      "loss(False) = y_i(-1) * w([8 4 2]) dot x_i([ 0 -1  1])\n",
      "w dot x_i =  -2\n",
      "\n",
      "---Iteration # 5 :\n",
      "loss(False) = y_i(1) * w([8 4 2]) dot x_i([10  1  1])\n",
      "w dot x_i =  86\n",
      "\n",
      "--Cycle #2 completed. From 3 records, 1(33.33%) were misclassified.\n",
      "\n",
      "Total cycle error = 5\n",
      "\n",
      "---Iteration # 6 :\n",
      "loss(True) = y_i(1) * w([8 4 2]) dot x_i([-1  1  1])\n",
      "w dot x_i =  -2\n",
      "Error = 2\n",
      "Adjusted wights: [7 5 3]\n",
      "\n",
      "---Iteration # 7 :\n",
      "loss(False) = y_i(-1) * w([7 5 3]) dot x_i([ 0 -1  1])\n",
      "w dot x_i =  -2\n",
      "\n",
      "---Iteration # 8 :\n",
      "loss(False) = y_i(1) * w([7 5 3]) dot x_i([10  1  1])\n",
      "w dot x_i =  78\n",
      "\n",
      "--Cycle #3 completed. From 3 records, 1(33.33%) were misclassified.\n",
      "\n",
      "Total cycle error = 2\n",
      "\n",
      "---Iteration # 9 :\n",
      "loss(False) = y_i(1) * w([7 5 3]) dot x_i([-1  1  1])\n",
      "w dot x_i =  1\n",
      "\n",
      "---Iteration # 10 :\n",
      "loss(False) = y_i(-1) * w([7 5 3]) dot x_i([ 0 -1  1])\n",
      "w dot x_i =  -2\n",
      "\n",
      "---Iteration # 11 :\n",
      "loss(False) = y_i(1) * w([7 5 3]) dot x_i([10  1  1])\n",
      "w dot x_i =  78\n",
      "\n",
      "--Cycle #4 completed. From 3 records, 0(0.00%) were misclassified.\n",
      "\n",
      "Total cycle error = 0\n",
      "No records misclasified on this cycle. Exiting...\n"
     ]
    }
   ],
   "source": [
    "i = 0                # variable to track current data point\n",
    "cycle = 1        # variable to track number of the cycle\n",
    "iteration = 0        # starting value for iteration tracking\n",
    "max_i = 100           # max iterations allowed \n",
    "losses = 0           # var to track number of losses per cycle, updated by func\n",
    "cycle_error = 0      # var to track total cycle error\n",
    "runs = 0             # var to track total number of runs, updated by function\n",
    "\n",
    "# starting vector of weights \n",
    "# (last coordinate represents 'b' from 'w * x_i + b')\n",
    "w = np.array([0, 0, 0])\n",
    "\n",
    "# set of vectors of points (last coordinate represents 'b' from 'w * x_i + b')\n",
    "x = np.array(\n",
    "    [np.array([-1, 1, 1]),\n",
    "     np.array([0, -1, 1]),\n",
    "     np.array([10, 1, 1])]\n",
    "    )\n",
    "\n",
    "# set of results\n",
    "y = np.array([1, -1, 1])\n",
    "\n",
    "print(\"Starting weights -- vector w(0):\", w)\n",
    "print(\"\\nData points -- vectors x_i:\\n\", x)\n",
    "print(\"\\nResults -- set of y:\", y)\n",
    "\n",
    "perceptron(w, x, y, i, iteration, max_i, cycle_error, print_details=True)"
   ]
  },
  {
   "cell_type": "markdown",
   "metadata": {},
   "source": [
    "Intuitively, an outlier causes the perceptron weight values to ‘overcorrect’ for misclassifying the outlier, and so it could takes more iterations to account for this.\n",
    "\n",
    "This is also evident from an earlier computation. In the case with no bias term (a hyperplane through the origin), each step changed the signed distance from a misclassified point to the boundary by $|x|^2$. Thus, outliers far from the hyperplane will cause very large changes, and the algorithm will accordingly take longer to converge."
   ]
  },
  {
   "cell_type": "markdown",
   "metadata": {},
   "source": [
    "#### Influence of initialization values\n",
    "\n",
    "Given two different initialization values (for weights and bias), but the same training data, is this learning algorithm guaranteed to converge to the same weight and bias parameters?"
   ]
  },
  {
   "cell_type": "markdown",
   "metadata": {},
   "source": [
    "**Starting at $w(0) = \\binom{5}{5}$ and $b(5) = 0$**"
   ]
  },
  {
   "cell_type": "code",
   "execution_count": 62,
   "metadata": {
    "ExecuteTime": {
     "end_time": "2019-03-08T03:42:28.258209Z",
     "start_time": "2019-03-08T03:42:28.240141Z"
    }
   },
   "outputs": [
    {
     "name": "stdout",
     "output_type": "stream",
     "text": [
      "Starting weights -- vector w(0): [5 5 5]\n",
      "\n",
      "Data points -- vectors x_i:\n",
      " [[-1  1  1]\n",
      " [ 0 -1  1]\n",
      " [10  1  1]]\n",
      "\n",
      "Results -- set of y: [ 1 -1  1]\n",
      "\n",
      "----- Perceptron -----\n",
      "\n",
      "--Cycle #1 completed. From 3 records, 1(33.33%) were misclassified.\n",
      "\n",
      "Total cycle error = 0\n",
      "\n",
      "--Cycle #2 completed. From 3 records, 0(0.00%) were misclassified.\n",
      "\n",
      "Total cycle error = 0\n",
      "No records misclasified on this cycle. Exiting...\n"
     ]
    }
   ],
   "source": [
    "i = 0                # variable to track current data point\n",
    "cycle = 1        # variable to track number of the cycle\n",
    "iteration = 0        # starting value for iteration tracking\n",
    "max_i = 100           # max iterations allowed \n",
    "losses = 0           # var to track number of losses per cycle, updated by func\n",
    "cycle_error = 0      # var to track total cycle error\n",
    "runs = 0             # var to track total number of runs, updated by function\n",
    "\n",
    "# starting vector of weights \n",
    "# (last coordinate represents 'b' from 'w * x_i + b')\n",
    "w = np.array([5, 5, 5])\n",
    "\n",
    "# set of vectors of points (last coordinate represents 'b' from 'w * x_i + b')\n",
    "x = np.array(\n",
    "    [np.array([-1, 1, 1]),\n",
    "     np.array([0, -1, 1]),\n",
    "     np.array([10, 1, 1])]\n",
    "    )\n",
    "\n",
    "# set of results\n",
    "y = np.array([1, -1, 1])\n",
    "\n",
    "print(\"Starting weights -- vector w(0):\", w)\n",
    "print(\"\\nData points -- vectors x_i:\\n\", x)\n",
    "print(\"\\nResults -- set of y:\", y)\n",
    "\n",
    "perceptron(w, x, y, i, iteration, max_i, cycle_error)"
   ]
  },
  {
   "cell_type": "markdown",
   "metadata": {},
   "source": [
    "**Converged to a different point**"
   ]
  },
  {
   "cell_type": "markdown",
   "metadata": {},
   "source": [
    "**Starting at $w(0) = \\binom{-13}{-7}$ and $b(0) = 1$**"
   ]
  },
  {
   "cell_type": "code",
   "execution_count": 63,
   "metadata": {
    "ExecuteTime": {
     "end_time": "2019-03-08T03:43:15.481267Z",
     "start_time": "2019-03-08T03:43:15.457253Z"
    }
   },
   "outputs": [
    {
     "name": "stdout",
     "output_type": "stream",
     "text": [
      "Starting weights -- vector w(0): [-13  -7   1]\n",
      "\n",
      "Data points -- vectors x_i:\n",
      " [[-1  1  1]\n",
      " [ 0 -1  1]\n",
      " [10  1  1]]\n",
      "\n",
      "Results -- set of y: [ 1 -1  1]\n"
     ]
    },
    {
     "ename": "TypeError",
     "evalue": "perceptron() missing 1 required positional argument: 'cycle_error'",
     "output_type": "error",
     "traceback": [
      "\u001b[1;31m---------------------------------------------------------------------------\u001b[0m",
      "\u001b[1;31mTypeError\u001b[0m                                 Traceback (most recent call last)",
      "\u001b[1;32m<ipython-input-63-74ad283e37d3>\u001b[0m in \u001b[0;36m<module>\u001b[1;34m\u001b[0m\n\u001b[0;32m     24\u001b[0m \u001b[0mprint\u001b[0m\u001b[1;33m(\u001b[0m\u001b[1;34m\"\\nResults -- set of y:\"\u001b[0m\u001b[1;33m,\u001b[0m \u001b[0my\u001b[0m\u001b[1;33m)\u001b[0m\u001b[1;33m\u001b[0m\u001b[1;33m\u001b[0m\u001b[0m\n\u001b[0;32m     25\u001b[0m \u001b[1;33m\u001b[0m\u001b[0m\n\u001b[1;32m---> 26\u001b[1;33m \u001b[0mperceptron\u001b[0m\u001b[1;33m(\u001b[0m\u001b[0mw\u001b[0m\u001b[1;33m,\u001b[0m \u001b[0mx\u001b[0m\u001b[1;33m,\u001b[0m \u001b[0my\u001b[0m\u001b[1;33m,\u001b[0m \u001b[0mi\u001b[0m\u001b[1;33m,\u001b[0m \u001b[0miteration\u001b[0m\u001b[1;33m,\u001b[0m \u001b[0mmax_i\u001b[0m\u001b[1;33m)\u001b[0m\u001b[1;33m\u001b[0m\u001b[1;33m\u001b[0m\u001b[0m\n\u001b[0m",
      "\u001b[1;31mTypeError\u001b[0m: perceptron() missing 1 required positional argument: 'cycle_error'"
     ]
    }
   ],
   "source": [
    "i = 0                # variable to track current data point\n",
    "cycle = 1        # variable to track number of the cycle\n",
    "iteration = 0        # starting value for iteration tracking\n",
    "max_i = 100           # max iterations allowed \n",
    "losses = 0           # var to track number of losses per cycle, updated by func\n",
    "runs = 0             # var to track total number of runs, updated by function\n",
    "\n",
    "# starting vector of weights \n",
    "# (last coordinate represents 'b' from 'w * x_i + b')\n",
    "w = np.array([-13, -7, 1])\n",
    "\n",
    "# set of vectors of points (last coordinate represents 'b' from 'w * x_i + b')\n",
    "x = np.array(\n",
    "    [np.array([-1, 1, 1]),\n",
    "     np.array([0, -1, 1]),\n",
    "     np.array([10, 1, 1])]\n",
    "    )\n",
    "\n",
    "# set of results\n",
    "y = np.array([1, -1, 1])\n",
    "\n",
    "print(\"Starting weights -- vector w(0):\", w)\n",
    "print(\"\\nData points -- vectors x_i:\\n\", x)\n",
    "print(\"\\nResults -- set of y:\", y)\n",
    "\n",
    "perceptron(w, x, y, i, iteration, max_i)"
   ]
  },
  {
   "cell_type": "markdown",
   "metadata": {},
   "source": [
    "**Converged to a different point**"
   ]
  },
  {
   "cell_type": "markdown",
   "metadata": {},
   "source": [
    "This highlights an **important limitation of perceptron** - while we can find a hyperplane that linearly separates the data, we don’t know this hyperplane is even the best one. "
   ]
  },
  {
   "cell_type": "markdown",
   "metadata": {},
   "source": [
    "#### Limitations of perceptron\n",
    "\n",
    "A massive drawback of the naive perceptron learning algorithm is that it **will not converge if the training data are not linearly separable**. Our naive perceptron algorithm can't classify data that is not linearly separable, but we can get around this.\n",
    "\n",
    "Previously, we iterated $w$ and $b$ until there were no more errors. Since we know we'll never get no errors, every time we update $w$ calculate its error rate on all the data."
   ]
  },
  {
   "cell_type": "code",
   "execution_count": 38,
   "metadata": {
    "ExecuteTime": {
     "end_time": "2019-03-08T03:29:57.502546Z",
     "start_time": "2019-03-08T03:29:57.476570Z"
    }
   },
   "outputs": [],
   "source": [
    "def perceptron(w, x, y, i, iteration, max_i, cycle_error):\n",
    "    \"\"\"\n",
    "    function emulating the logic of perceptron\n",
    "    \n",
    "    loss function is calculated as [[ y_i*(w dot x_i + b) <= 0 ]]\n",
    "    if misclassified (loss == True), adjust weights and bias\n",
    "    call the algorithm recursively until 'max_iterations' is reached\n",
    "    \n",
    "    param: w   -- np.array -- vector of weights (free term 'b' is included)\n",
    "    param: x   -- np.array -- array of vectors (arrays) of inputs\n",
    "                              (free term 'b' is included)\n",
    "    param: y   -- boolean  -- array of labelled results\n",
    "    param: i   -- int      -- current data point\n",
    "    param: iteration -- int -- current iteration of the algorithm\n",
    "    param: max_i     -- int -- max number of iterations allowed\n",
    "    param: cycle_error -- float -- sum of all errors in this cycle\n",
    "    \n",
    "    global variable: losses -- int -- number of losses \n",
    "                                      (updated by this function)\n",
    "    global variable: runs   -- int -- number of iterations\n",
    "                                      (updated by this function)\n",
    "    global variable: cycle -- int  -- current cycle\n",
    "                                      (updated by this function)                                  \n",
    "    \n",
    "    returns: perceptron(w, x, y, i) -- recursively calls itself\n",
    "                                                  until 'max_iterations'\n",
    "                                                  is reached\n",
    "    \"\"\"\n",
    "    # global variables -- number of losses, number of runs\n",
    "    global losses, runs, cycle\n",
    "    \n",
    "    # print headers\n",
    "    if iteration == 0: print(\"\\n----- Perceptron -----\")\n",
    "    if i == 0: print(\"\\n--- starting cycle #{0} through data point...\"\n",
    "                     .format(cycle))\n",
    "    \n",
    "    # classification -- w dot x_i (term 'b' included as last in 'w' and 'x')\n",
    "    classi = w.dot(x[i])\n",
    "    \n",
    "    # calculate the loss function\n",
    "    loss = y[i] * classi <= 0\n",
    "    \n",
    "    print(\"\\n---Iteration #\", iteration, \":\")\n",
    "    print(\"loss({0}) = y_i({1}) * w({2}) dot x_i({3})\"\n",
    "          .format(loss, y[i], w, x[i]))\n",
    "    print(\"w dot x_i = \", classi)\n",
    "    \n",
    "    # if misclassified, adjust weights\n",
    "    if loss:\n",
    "        print(\"Error =\", abs(classi))\n",
    "        # add error to 'cycle_error'\n",
    "        cycle_error += abs(classi)\n",
    "        print(\"Starting weights:\", w)\n",
    "        # THIS PART MIGHT CAUSE ERRORS DUE TO +=\n",
    "        w += y[i] * x[i] # adjust vector of weights\n",
    "        losses += 1\n",
    "        print(\"Adjusted wights:\", w)\n",
    "    \n",
    "    # count iterations\n",
    "    iteration += 1\n",
    "    runs = iteration\n",
    "    # move to next data point\n",
    "    i += 1\n",
    "    # reset 'i', if reached the end of 'x'\n",
    "    if i == len(x):\n",
    "        print(\"\\n--Cycle #{0} completed. From {1:,} records, {2:,}({3:.2f}%) \\\n",
    "were misclassified.\\n\".format(cycle, i, losses, losses / i * 100))\n",
    "        print(\"Total cycle error =\", cycle_error)\n",
    "        if losses == 0:\n",
    "            print(\"No records misclasified on this cycle. Exiting...\")\n",
    "            return\n",
    "        losses = 0      # reset losses for the next cycle\n",
    "        cycle_error = 0 # reset error for the next cycle\n",
    "        i = 0           # reset 'i' for the next cycle\n",
    "        cycle += 1      # count cycles\n",
    "        \n",
    "    # continue until 'max_iterations' is reached\n",
    "    if i < max_i:\n",
    "        return perceptron(w, x, y, i, iteration, max_i, cycle_error)\n",
    "    else:\n",
    "        print(\"Max iterations reached, stopping...\")\n",
    "        return"
   ]
  },
  {
   "cell_type": "code",
   "execution_count": 39,
   "metadata": {
    "ExecuteTime": {
     "end_time": "2019-03-08T03:29:57.992984Z",
     "start_time": "2019-03-08T03:29:57.984034Z"
    }
   },
   "outputs": [
    {
     "data": {
      "text/plain": [
       "15"
      ]
     },
     "execution_count": 39,
     "metadata": {},
     "output_type": "execute_result"
    }
   ],
   "source": [
    "li = [1, 1, 2, 3, 4, 5]\n",
    "sum(li[-5:])"
   ]
  },
  {
   "cell_type": "code",
   "execution_count": 40,
   "metadata": {
    "ExecuteTime": {
     "end_time": "2019-03-08T03:29:58.820652Z",
     "start_time": "2019-03-08T03:29:58.783617Z"
    }
   },
   "outputs": [
    {
     "name": "stdout",
     "output_type": "stream",
     "text": [
      "Starting weights -- vector w(0): [-13  -7   1]\n",
      "\n",
      "Data points -- vectors x_i:\n",
      " [[-1  1  1]\n",
      " [ 0 -1  1]\n",
      " [10  1  1]]\n",
      "\n",
      "Results -- set of y: [ 1 -1  1]\n",
      "\n",
      "----- Perceptron -----\n",
      "\n",
      "--- starting cycle #1 through data point...\n",
      "\n",
      "---Iteration # 0 :\n",
      "loss(False) = y_i(1) * w([-13  -7   1]) dot x_i([-1  1  1])\n",
      "w dot x_i =  7\n",
      "\n",
      "---Iteration # 1 :\n",
      "loss(True) = y_i(-1) * w([-13  -7   1]) dot x_i([ 0 -1  1])\n",
      "w dot x_i =  8\n",
      "Error = 8\n",
      "Starting weights: [-13  -7   1]\n",
      "Adjusted wights: [-13  -6   0]\n",
      "\n",
      "---Iteration # 2 :\n",
      "loss(True) = y_i(1) * w([-13  -6   0]) dot x_i([10  1  1])\n",
      "w dot x_i =  -136\n",
      "Error = 136\n",
      "Starting weights: [-13  -6   0]\n",
      "Adjusted wights: [-3 -5  1]\n",
      "\n",
      "--Cycle #1 completed. From 3 records, 2(66.67%) were misclassified.\n",
      "\n",
      "Total cycle error = 144\n",
      "\n",
      "--- starting cycle #2 through data point...\n",
      "\n",
      "---Iteration # 3 :\n",
      "loss(True) = y_i(1) * w([-3 -5  1]) dot x_i([-1  1  1])\n",
      "w dot x_i =  -1\n",
      "Error = 1\n",
      "Starting weights: [-3 -5  1]\n",
      "Adjusted wights: [-4 -4  2]\n",
      "\n",
      "---Iteration # 4 :\n",
      "loss(True) = y_i(-1) * w([-4 -4  2]) dot x_i([ 0 -1  1])\n",
      "w dot x_i =  6\n",
      "Error = 6\n",
      "Starting weights: [-4 -4  2]\n",
      "Adjusted wights: [-4 -3  1]\n",
      "\n",
      "---Iteration # 5 :\n",
      "loss(True) = y_i(1) * w([-4 -3  1]) dot x_i([10  1  1])\n",
      "w dot x_i =  -42\n",
      "Error = 42\n",
      "Starting weights: [-4 -3  1]\n",
      "Adjusted wights: [ 6 -2  2]\n",
      "\n",
      "--Cycle #2 completed. From 3 records, 3(100.00%) were misclassified.\n",
      "\n",
      "Total cycle error = 49\n",
      "\n",
      "--- starting cycle #3 through data point...\n",
      "\n",
      "---Iteration # 6 :\n",
      "loss(True) = y_i(1) * w([ 6 -2  2]) dot x_i([-1  1  1])\n",
      "w dot x_i =  -6\n",
      "Error = 6\n",
      "Starting weights: [ 6 -2  2]\n",
      "Adjusted wights: [ 5 -1  3]\n",
      "\n",
      "---Iteration # 7 :\n",
      "loss(True) = y_i(-1) * w([ 5 -1  3]) dot x_i([ 0 -1  1])\n",
      "w dot x_i =  4\n",
      "Error = 4\n",
      "Starting weights: [ 5 -1  3]\n",
      "Adjusted wights: [5 0 2]\n",
      "\n",
      "---Iteration # 8 :\n",
      "loss(False) = y_i(1) * w([5 0 2]) dot x_i([10  1  1])\n",
      "w dot x_i =  52\n",
      "\n",
      "--Cycle #3 completed. From 3 records, 2(66.67%) were misclassified.\n",
      "\n",
      "Total cycle error = 10\n",
      "\n",
      "--- starting cycle #4 through data point...\n",
      "\n",
      "---Iteration # 9 :\n",
      "loss(True) = y_i(1) * w([5 0 2]) dot x_i([-1  1  1])\n",
      "w dot x_i =  -3\n",
      "Error = 3\n",
      "Starting weights: [5 0 2]\n",
      "Adjusted wights: [4 1 3]\n",
      "\n",
      "---Iteration # 10 :\n",
      "loss(True) = y_i(-1) * w([4 1 3]) dot x_i([ 0 -1  1])\n",
      "w dot x_i =  2\n",
      "Error = 2\n",
      "Starting weights: [4 1 3]\n",
      "Adjusted wights: [4 2 2]\n",
      "\n",
      "---Iteration # 11 :\n",
      "loss(False) = y_i(1) * w([4 2 2]) dot x_i([10  1  1])\n",
      "w dot x_i =  44\n",
      "\n",
      "--Cycle #4 completed. From 3 records, 2(66.67%) were misclassified.\n",
      "\n",
      "Total cycle error = 5\n",
      "\n",
      "--- starting cycle #5 through data point...\n",
      "\n",
      "---Iteration # 12 :\n",
      "loss(True) = y_i(1) * w([4 2 2]) dot x_i([-1  1  1])\n",
      "w dot x_i =  0\n",
      "Error = 0\n",
      "Starting weights: [4 2 2]\n",
      "Adjusted wights: [3 3 3]\n",
      "\n",
      "---Iteration # 13 :\n",
      "loss(True) = y_i(-1) * w([3 3 3]) dot x_i([ 0 -1  1])\n",
      "w dot x_i =  0\n",
      "Error = 0\n",
      "Starting weights: [3 3 3]\n",
      "Adjusted wights: [3 4 2]\n",
      "\n",
      "---Iteration # 14 :\n",
      "loss(False) = y_i(1) * w([3 4 2]) dot x_i([10  1  1])\n",
      "w dot x_i =  36\n",
      "\n",
      "--Cycle #5 completed. From 3 records, 2(66.67%) were misclassified.\n",
      "\n",
      "Total cycle error = 0\n",
      "\n",
      "--- starting cycle #6 through data point...\n",
      "\n",
      "---Iteration # 15 :\n",
      "loss(False) = y_i(1) * w([3 4 2]) dot x_i([-1  1  1])\n",
      "w dot x_i =  3\n",
      "\n",
      "---Iteration # 16 :\n",
      "loss(False) = y_i(-1) * w([3 4 2]) dot x_i([ 0 -1  1])\n",
      "w dot x_i =  -2\n",
      "\n",
      "---Iteration # 17 :\n",
      "loss(False) = y_i(1) * w([3 4 2]) dot x_i([10  1  1])\n",
      "w dot x_i =  36\n",
      "\n",
      "--Cycle #6 completed. From 3 records, 0(0.00%) were misclassified.\n",
      "\n",
      "Total cycle error = 0\n",
      "No records misclasified on this cycle. Exiting...\n"
     ]
    }
   ],
   "source": [
    "i = 0                # var to track current data point\n",
    "cycle = 1            # var to track number of the cycle\n",
    "iteration = 0        # starting value for iteration tracking\n",
    "max_i = 100          # max iterations allowed \n",
    "losses = 0           # var to track number of losses per cycle, updated by func\n",
    "cycle_error = 0      # var to track total cycle error\n",
    "runs = 0             # var to track total number of runs, updated by function\n",
    "\n",
    "# starting vector of weights \n",
    "# (last coordinate represents 'b' from 'w * x_i + b')\n",
    "w = np.array([-13, -7, 1])\n",
    "\n",
    "# set of vectors of points (last coordinate represents 'b' from 'w * x_i + b')\n",
    "x = np.array(\n",
    "    [np.array([-1, 1, 1]),\n",
    "     np.array([0, -1, 1]),\n",
    "     np.array([10, 1, 1])]\n",
    "    )\n",
    "\n",
    "# set of results\n",
    "y = np.array([1, -1, 1])\n",
    "\n",
    "print(\"Starting weights -- vector w(0):\", w)\n",
    "print(\"\\nData points -- vectors x_i:\\n\", x)\n",
    "print(\"\\nResults -- set of y:\", y)\n",
    "\n",
    "perceptron(w, x, y, i, iteration, max_i, cycle_error)"
   ]
  },
  {
   "cell_type": "code",
   "execution_count": null,
   "metadata": {},
   "outputs": [],
   "source": []
  }
 ],
 "metadata": {
  "kernelspec": {
   "display_name": "Python 3",
   "language": "python",
   "name": "python3"
  },
  "language_info": {
   "codemirror_mode": {
    "name": "ipython",
    "version": 3
   },
   "file_extension": ".py",
   "mimetype": "text/x-python",
   "name": "python",
   "nbconvert_exporter": "python",
   "pygments_lexer": "ipython3",
   "version": "3.7.2"
  },
  "toc": {
   "base_numbering": 1,
   "nav_menu": {},
   "number_sections": true,
   "sideBar": true,
   "skip_h1_title": false,
   "title_cell": "Table of Contents",
   "title_sidebar": "Contents",
   "toc_cell": false,
   "toc_position": {},
   "toc_section_display": true,
   "toc_window_display": false
  },
  "varInspector": {
   "cols": {
    "lenName": 16,
    "lenType": 16,
    "lenVar": 40
   },
   "kernels_config": {
    "python": {
     "delete_cmd_postfix": "",
     "delete_cmd_prefix": "del ",
     "library": "var_list.py",
     "varRefreshCmd": "print(var_dic_list())"
    },
    "r": {
     "delete_cmd_postfix": ") ",
     "delete_cmd_prefix": "rm(",
     "library": "var_list.r",
     "varRefreshCmd": "cat(var_dic_list()) "
    }
   },
   "types_to_exclude": [
    "module",
    "function",
    "builtin_function_or_method",
    "instance",
    "_Feature"
   ],
   "window_display": false
  }
 },
 "nbformat": 4,
 "nbformat_minor": 2
}
