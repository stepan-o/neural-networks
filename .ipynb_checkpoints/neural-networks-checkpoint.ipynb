{
 "cells": [
  {
   "cell_type": "markdown",
   "metadata": {},
   "source": [
    "### Perceptron"
   ]
  },
  {
   "cell_type": "code",
   "execution_count": 1,
   "metadata": {
    "ExecuteTime": {
     "end_time": "2019-03-08T02:03:58.651542Z",
     "start_time": "2019-03-08T02:03:58.646591Z"
    }
   },
   "outputs": [],
   "source": [
    "import numpy as np"
   ]
  },
  {
   "cell_type": "markdown",
   "metadata": {
    "heading_collapsed": true
   },
   "source": [
    "#### Define `perceptron`"
   ]
  },
  {
   "cell_type": "code",
   "execution_count": 2,
   "metadata": {
    "ExecuteTime": {
     "end_time": "2019-03-08T02:04:00.987850Z",
     "start_time": "2019-03-08T02:04:00.964832Z"
    },
    "hidden": true
   },
   "outputs": [],
   "source": [
    "def perceptron(w, x, y, i, iteration, max_i):\n",
    "    \"\"\"\n",
    "    function emulating the logic of perceptron\n",
    "    \n",
    "    loss function is calculated as [[ y_i*(w dot x_i + b) <= 0 ]]\n",
    "    if misclassified (loss == True), adjust weights and bias\n",
    "    call the algorithm recursively until 'max_iterations' is reached\n",
    "    \n",
    "    param: w   -- np.array -- vector of weights (free term 'b' is included)\n",
    "    param: x   -- np.array -- array of vectors (arrays) of inputs\n",
    "                              (free term 'b' is included)\n",
    "    param: y   -- boolean  -- array of labelled results\n",
    "    param: i   -- int      -- current data point\n",
    "    param: iteration -- int -- current iteration of the algorithm\n",
    "    \n",
    "    global variable: losses -- int -- number of losses \n",
    "                                      (updated by this function)\n",
    "    global variable: runs   -- int -- number of iterations\n",
    "                                      (updated by this function)\n",
    "    global variable: cycle -- int  -- current cycle\n",
    "                                      (updated by this function)                                  \n",
    "    \n",
    "    returns: perceptron(w, x, y, i) -- recursively calls itself\n",
    "                                                  until 'max_iterations'\n",
    "                                                  is reached\n",
    "    \"\"\"\n",
    "    # global variables -- number of losses, number of runs\n",
    "    global losses, runs, cycle\n",
    "    \n",
    "    # print headers\n",
    "    if iteration == 0: print(\"\\n----- Perceptron -----\")\n",
    "    if i == 0: print(\"\\n--- starting cycle #{0} through data point...\"\n",
    "                     .format(cycle))\n",
    "    \n",
    "    # classification -- w dot x_i (term 'b' included as last in 'w' and 'x')\n",
    "    classi = w.dot(x[i])\n",
    "    \n",
    "    # calculate the loss function\n",
    "    loss = y[i] * classi <= 0\n",
    "    \n",
    "    print(\"\\n---Iteration #\", iteration, \":\")\n",
    "    print(\"loss({0}) = y_i({1}) * w({2}) dot x_i({3})\"\n",
    "          .format(loss, y[i], w, x[i]))\n",
    "    print(\"w dot x_i = \", classi)\n",
    "    \n",
    "    # if misclassified, adjust weights\n",
    "    if loss:\n",
    "        print(\"Starting weights:\", w)\n",
    "        w += y[i] * x[i] # adjust vector of weights\n",
    "        #w += y[i] * x[i] # adjust vector of weights\n",
    "        losses += 1\n",
    "        print(\"Adjusted wights:\", w)\n",
    "    \n",
    "    # count iterations\n",
    "    iteration += 1\n",
    "    runs = iteration\n",
    "    # move to next data point\n",
    "    i += 1\n",
    "    # reset 'i', if reached the end of 'x'\n",
    "    if i == len(x):\n",
    "        print(\"\\n--Cycle #{0} completed. From {1:,} records, {2:,}({3:.2f}%) \\\n",
    "were misclassified.\\n\".format(cycle, i, losses, losses / i * 100))\n",
    "        if losses == 0:\n",
    "            print(\"No records misclasified on this cycle. Exiting...\")\n",
    "            return\n",
    "        losses = 0 # reset losses for the next cycle\n",
    "        i = 0      # reset 'i' for the next cycle\n",
    "        cycle += 1 # count cycles\n",
    "        \n",
    "    # continue until 'max_iterations' is reached\n",
    "    if i < max_i:\n",
    "        return perceptron(w, x, y, i, iteration, max_i)\n",
    "    else:\n",
    "        print(\"Max iterations reached, stopping...\")\n",
    "        return"
   ]
  },
  {
   "cell_type": "markdown",
   "metadata": {},
   "source": [
    "#### No bias term"
   ]
  },
  {
   "cell_type": "code",
   "execution_count": 14,
   "metadata": {
    "ExecuteTime": {
     "end_time": "2019-03-08T02:27:15.514296Z",
     "start_time": "2019-03-08T02:27:15.487271Z"
    }
   },
   "outputs": [
    {
     "name": "stdout",
     "output_type": "stream",
     "text": [
      "Starting weights -- vector w(0): [0. 0. 0.]\n",
      "\n",
      "Data points -- vectors x_i:\n",
      " [[-1.   1.   1. ]\n",
      " [ 0.  -1.   1. ]\n",
      " [ 1.5  1.   1. ]]\n",
      "\n",
      "Results -- set of y: [ 1. -1.  1.]\n",
      "\n",
      "----- Perceptron -----\n",
      "\n",
      "--- starting cycle #1 through data point...\n",
      "\n",
      "---Iteration # 0 :\n",
      "loss(True) = y_i(1.0) * w([0. 0. 0.]) dot x_i([-1.  1.  1.])\n",
      "w dot x_i =  0.0\n",
      "Starting weights: [0. 0. 0.]\n",
      "Adjusted wights: [-1.  1.  1.]\n",
      "\n",
      "---Iteration # 1 :\n",
      "loss(True) = y_i(-1.0) * w([-1.  1.  1.]) dot x_i([ 0. -1.  1.])\n",
      "w dot x_i =  0.0\n",
      "Starting weights: [-1.  1.  1.]\n",
      "Adjusted wights: [-1.  2.  0.]\n",
      "\n",
      "---Iteration # 2 :\n",
      "loss(False) = y_i(1.0) * w([-1.  2.  0.]) dot x_i([1.5 1.  1. ])\n",
      "w dot x_i =  0.5\n",
      "\n",
      "--Cycle #1 completed. From 3 records, 2(66.67%) were misclassified.\n",
      "\n",
      "\n",
      "--- starting cycle #2 through data point...\n",
      "\n",
      "---Iteration # 3 :\n",
      "loss(False) = y_i(1.0) * w([-1.  2.  0.]) dot x_i([-1.  1.  1.])\n",
      "w dot x_i =  3.0\n",
      "\n",
      "---Iteration # 4 :\n",
      "loss(False) = y_i(-1.0) * w([-1.  2.  0.]) dot x_i([ 0. -1.  1.])\n",
      "w dot x_i =  -2.0\n",
      "\n",
      "---Iteration # 5 :\n",
      "loss(False) = y_i(1.0) * w([-1.  2.  0.]) dot x_i([1.5 1.  1. ])\n",
      "w dot x_i =  0.5\n",
      "\n",
      "--Cycle #2 completed. From 3 records, 0(0.00%) were misclassified.\n",
      "\n",
      "No records misclasified on this cycle. Exiting...\n"
     ]
    }
   ],
   "source": [
    "i = 0                # variable to track current data point\n",
    "cycle = 1        # variable to track number of the cycle\n",
    "iteration = 0        # starting value for iteration tracking\n",
    "max_i = 100           # max iterations allowed \n",
    "losses = 0           # var to track number of losses per cycle, updated by func\n",
    "runs = 0             # var to track total number of runs, updated by function\n",
    "\n",
    "# starting vector of weights \n",
    "# (last coordinate represents 'b' from 'w * x_i + b')\n",
    "w = np.array([0., 0., 0.])\n",
    "\n",
    "# set of vectors of points (last coordinate represents 'b' from 'w * x_i + b')\n",
    "x = np.array(\n",
    "    [np.array([-1., 1., 1.]),\n",
    "     np.array([0., -1., 1.]),\n",
    "     np.array([1.5, 1., 1.])]\n",
    "    )\n",
    "\n",
    "# set of results\n",
    "y = np.array([1., -1., 1.])\n",
    "\n",
    "print(\"Starting weights -- vector w(0):\", w)\n",
    "print(\"\\nData points -- vectors x_i:\\n\", x)\n",
    "print(\"\\nResults -- set of y:\", y)\n",
    "\n",
    "perceptron(w, x, y, i, iteration, max_i)"
   ]
  },
  {
   "cell_type": "code",
   "execution_count": 8,
   "metadata": {
    "ExecuteTime": {
     "end_time": "2019-03-08T02:23:41.640843Z",
     "start_time": "2019-03-08T02:23:41.607866Z"
    }
   },
   "outputs": [
    {
     "name": "stdout",
     "output_type": "stream",
     "text": [
      "Starting weights -- vector w(0): [0 0]\n",
      "\n",
      "Data points -- vectors x_i:\n",
      " [[-1.   1. ]\n",
      " [ 0.  -1. ]\n",
      " [ 1.5  1. ]]\n",
      "\n",
      "Results -- set of y: [ 1 -1  1]\n",
      "\n",
      "----- Perceptron -----\n",
      "\n",
      "--- starting cycle #1 through data point...\n",
      "\n",
      "---Iteration # 0 :\n",
      "loss(True) = y_i(1) * w([0 0]) dot x_i([-1.  1.])\n",
      "w dot x_i =  0.0\n",
      "Starting weights: [0 0]\n"
     ]
    },
    {
     "ename": "TypeError",
     "evalue": "Cannot cast ufunc add output from dtype('float64') to dtype('int32') with casting rule 'same_kind'",
     "output_type": "error",
     "traceback": [
      "\u001b[1;31m---------------------------------------------------------------------------\u001b[0m",
      "\u001b[1;31mTypeError\u001b[0m                                 Traceback (most recent call last)",
      "\u001b[1;32m<ipython-input-8-5441aecd6c33>\u001b[0m in \u001b[0;36m<module>\u001b[1;34m\u001b[0m\n\u001b[0;32m     24\u001b[0m \u001b[0mprint\u001b[0m\u001b[1;33m(\u001b[0m\u001b[1;34m\"\\nResults -- set of y:\"\u001b[0m\u001b[1;33m,\u001b[0m \u001b[0my\u001b[0m\u001b[1;33m)\u001b[0m\u001b[1;33m\u001b[0m\u001b[1;33m\u001b[0m\u001b[0m\n\u001b[0;32m     25\u001b[0m \u001b[1;33m\u001b[0m\u001b[0m\n\u001b[1;32m---> 26\u001b[1;33m \u001b[0mperceptron\u001b[0m\u001b[1;33m(\u001b[0m\u001b[0mw\u001b[0m\u001b[1;33m,\u001b[0m \u001b[0mx\u001b[0m\u001b[1;33m,\u001b[0m \u001b[0my\u001b[0m\u001b[1;33m,\u001b[0m \u001b[0mi\u001b[0m\u001b[1;33m,\u001b[0m \u001b[0miteration\u001b[0m\u001b[1;33m,\u001b[0m \u001b[0mmax_i\u001b[0m\u001b[1;33m)\u001b[0m\u001b[1;33m\u001b[0m\u001b[1;33m\u001b[0m\u001b[0m\n\u001b[0m",
      "\u001b[1;32m<ipython-input-2-733d2c41b78d>\u001b[0m in \u001b[0;36mperceptron\u001b[1;34m(w, x, y, i, iteration, max_i)\u001b[0m\n\u001b[0;32m     47\u001b[0m     \u001b[1;32mif\u001b[0m \u001b[0mloss\u001b[0m\u001b[1;33m:\u001b[0m\u001b[1;33m\u001b[0m\u001b[1;33m\u001b[0m\u001b[0m\n\u001b[0;32m     48\u001b[0m         \u001b[0mprint\u001b[0m\u001b[1;33m(\u001b[0m\u001b[1;34m\"Starting weights:\"\u001b[0m\u001b[1;33m,\u001b[0m \u001b[0mw\u001b[0m\u001b[1;33m)\u001b[0m\u001b[1;33m\u001b[0m\u001b[1;33m\u001b[0m\u001b[0m\n\u001b[1;32m---> 49\u001b[1;33m         \u001b[0mw\u001b[0m \u001b[1;33m+=\u001b[0m \u001b[0my\u001b[0m\u001b[1;33m[\u001b[0m\u001b[0mi\u001b[0m\u001b[1;33m]\u001b[0m \u001b[1;33m*\u001b[0m \u001b[0mx\u001b[0m\u001b[1;33m[\u001b[0m\u001b[0mi\u001b[0m\u001b[1;33m]\u001b[0m \u001b[1;31m# adjust vector of weights\u001b[0m\u001b[1;33m\u001b[0m\u001b[1;33m\u001b[0m\u001b[0m\n\u001b[0m\u001b[0;32m     50\u001b[0m         \u001b[0mlosses\u001b[0m \u001b[1;33m+=\u001b[0m \u001b[1;36m1\u001b[0m\u001b[1;33m\u001b[0m\u001b[1;33m\u001b[0m\u001b[0m\n\u001b[0;32m     51\u001b[0m         \u001b[0mprint\u001b[0m\u001b[1;33m(\u001b[0m\u001b[1;34m\"Adjusted wights:\"\u001b[0m\u001b[1;33m,\u001b[0m \u001b[0mw\u001b[0m\u001b[1;33m)\u001b[0m\u001b[1;33m\u001b[0m\u001b[1;33m\u001b[0m\u001b[0m\n",
      "\u001b[1;31mTypeError\u001b[0m: Cannot cast ufunc add output from dtype('float64') to dtype('int32') with casting rule 'same_kind'"
     ]
    }
   ],
   "source": [
    "i = 0                # variable to track current data point\n",
    "cycle = 1        # variable to track number of the cycle\n",
    "iteration = 0        # starting value for iteration tracking\n",
    "max_i = 100           # max iterations allowed \n",
    "losses = 0           # var to track number of losses per cycle, updated by func\n",
    "runs = 0             # var to track total number of runs, updated by function\n",
    "\n",
    "# starting vector of weights \n",
    "# (last coordinate represents 'b' from 'w * x_i + b')\n",
    "w = np.array([0, 0])\n",
    "\n",
    "# set of vectors of points (last coordinate represents 'b' from 'w * x_i + b')\n",
    "x = np.array(\n",
    "    [np.array([-1, 1]),\n",
    "     np.array([0, -1]),\n",
    "     np.array([3/2, 1])]\n",
    "    )\n",
    "\n",
    "# set of results\n",
    "y = np.array([1, -1, 1])\n",
    "\n",
    "print(\"Starting weights -- vector w(0):\", w)\n",
    "print(\"\\nData points -- vectors x_i:\\n\", x)\n",
    "print(\"\\nResults -- set of y:\", y)\n",
    "\n",
    "perceptron(w, x, y, i, iteration, max_i)"
   ]
  },
  {
   "cell_type": "markdown",
   "metadata": {},
   "source": [
    "#### Training sets with outliers"
   ]
  },
  {
   "cell_type": "code",
   "execution_count": 10,
   "metadata": {
    "ExecuteTime": {
     "end_time": "2019-03-08T02:25:06.860500Z",
     "start_time": "2019-03-08T02:25:06.830526Z"
    }
   },
   "outputs": [
    {
     "name": "stdout",
     "output_type": "stream",
     "text": [
      "Starting weights -- vector w(0): [0 0 0]\n",
      "\n",
      "Data points -- vectors x_i:\n",
      " [[-1  1  1]\n",
      " [ 0 -1  1]\n",
      " [10  1  1]]\n",
      "\n",
      "Results -- set of y: [ 1 -1  1]\n",
      "\n",
      "----- Perceptron -----\n",
      "\n",
      "--- starting cycle #1 through data point...\n",
      "\n",
      "---Iteration # 0 :\n",
      "loss(True) = y_i(1) * w([0 0 0]) dot x_i([-1  1  1])\n",
      "w dot x_i =  0\n",
      "Starting weights: [0 0 0]\n",
      "Adjusted wights: [-1  1  1]\n",
      "\n",
      "---Iteration # 1 :\n",
      "loss(True) = y_i(-1) * w([-1  1  1]) dot x_i([ 0 -1  1])\n",
      "w dot x_i =  0\n",
      "Starting weights: [-1  1  1]\n",
      "Adjusted wights: [-1  2  0]\n",
      "\n",
      "---Iteration # 2 :\n",
      "loss(True) = y_i(1) * w([-1  2  0]) dot x_i([10  1  1])\n",
      "w dot x_i =  -8\n",
      "Starting weights: [-1  2  0]\n",
      "Adjusted wights: [9 3 1]\n",
      "\n",
      "--Cycle #1 completed. From 3 records, 3(100.00%) were misclassified.\n",
      "\n",
      "\n",
      "--- starting cycle #2 through data point...\n",
      "\n",
      "---Iteration # 3 :\n",
      "loss(True) = y_i(1) * w([9 3 1]) dot x_i([-1  1  1])\n",
      "w dot x_i =  -5\n",
      "Starting weights: [9 3 1]\n",
      "Adjusted wights: [8 4 2]\n",
      "\n",
      "---Iteration # 4 :\n",
      "loss(False) = y_i(-1) * w([8 4 2]) dot x_i([ 0 -1  1])\n",
      "w dot x_i =  -2\n",
      "\n",
      "---Iteration # 5 :\n",
      "loss(False) = y_i(1) * w([8 4 2]) dot x_i([10  1  1])\n",
      "w dot x_i =  86\n",
      "\n",
      "--Cycle #2 completed. From 3 records, 1(33.33%) were misclassified.\n",
      "\n",
      "\n",
      "--- starting cycle #3 through data point...\n",
      "\n",
      "---Iteration # 6 :\n",
      "loss(True) = y_i(1) * w([8 4 2]) dot x_i([-1  1  1])\n",
      "w dot x_i =  -2\n",
      "Starting weights: [8 4 2]\n",
      "Adjusted wights: [7 5 3]\n",
      "\n",
      "---Iteration # 7 :\n",
      "loss(False) = y_i(-1) * w([7 5 3]) dot x_i([ 0 -1  1])\n",
      "w dot x_i =  -2\n",
      "\n",
      "---Iteration # 8 :\n",
      "loss(False) = y_i(1) * w([7 5 3]) dot x_i([10  1  1])\n",
      "w dot x_i =  78\n",
      "\n",
      "--Cycle #3 completed. From 3 records, 1(33.33%) were misclassified.\n",
      "\n",
      "\n",
      "--- starting cycle #4 through data point...\n",
      "\n",
      "---Iteration # 9 :\n",
      "loss(False) = y_i(1) * w([7 5 3]) dot x_i([-1  1  1])\n",
      "w dot x_i =  1\n",
      "\n",
      "---Iteration # 10 :\n",
      "loss(False) = y_i(-1) * w([7 5 3]) dot x_i([ 0 -1  1])\n",
      "w dot x_i =  -2\n",
      "\n",
      "---Iteration # 11 :\n",
      "loss(False) = y_i(1) * w([7 5 3]) dot x_i([10  1  1])\n",
      "w dot x_i =  78\n",
      "\n",
      "--Cycle #4 completed. From 3 records, 0(0.00%) were misclassified.\n",
      "\n",
      "No records misclasified on this cycle. Exiting...\n"
     ]
    }
   ],
   "source": [
    "i = 0                # variable to track current data point\n",
    "cycle = 1        # variable to track number of the cycle\n",
    "iteration = 0        # starting value for iteration tracking\n",
    "max_i = 100           # max iterations allowed \n",
    "losses = 0           # var to track number of losses per cycle, updated by func\n",
    "runs = 0             # var to track total number of runs, updated by function\n",
    "\n",
    "# starting vector of weights \n",
    "# (last coordinate represents 'b' from 'w * x_i + b')\n",
    "w = np.array([0, 0, 0])\n",
    "\n",
    "# set of vectors of points (last coordinate represents 'b' from 'w * x_i + b')\n",
    "x = np.array(\n",
    "    [np.array([-1, 1, 1]),\n",
    "     np.array([0, -1, 1]),\n",
    "     np.array([10, 1, 1])]\n",
    "    )\n",
    "\n",
    "# set of results\n",
    "y = np.array([1, -1, 1])\n",
    "\n",
    "print(\"Starting weights -- vector w(0):\", w)\n",
    "print(\"\\nData points -- vectors x_i:\\n\", x)\n",
    "print(\"\\nResults -- set of y:\", y)\n",
    "\n",
    "perceptron(w, x, y, i, iteration, max_i)"
   ]
  },
  {
   "cell_type": "markdown",
   "metadata": {},
   "source": [
    "Intuitively, an outlier causes the perceptron weight values to ‘overcorrect’ for misclassifying the outlier, and so it could takes more iterations to account for this.\n",
    "\n",
    "This is also evident from an earlier computation. In the case with no bias term (a hyperplane through the origin), each step changed the signed distance from a misclassified point to the boundary by $|x|^2$. Thus, outliers far from the hyperplane will cause very large changes, and the algorithm will accordingly take longer to converge."
   ]
  },
  {
   "cell_type": "code",
   "execution_count": null,
   "metadata": {},
   "outputs": [],
   "source": []
  }
 ],
 "metadata": {
  "kernelspec": {
   "display_name": "Python 3",
   "language": "python",
   "name": "python3"
  },
  "language_info": {
   "codemirror_mode": {
    "name": "ipython",
    "version": 3
   },
   "file_extension": ".py",
   "mimetype": "text/x-python",
   "name": "python",
   "nbconvert_exporter": "python",
   "pygments_lexer": "ipython3",
   "version": "3.7.2"
  },
  "toc": {
   "base_numbering": 1,
   "nav_menu": {},
   "number_sections": true,
   "sideBar": true,
   "skip_h1_title": false,
   "title_cell": "Table of Contents",
   "title_sidebar": "Contents",
   "toc_cell": false,
   "toc_position": {},
   "toc_section_display": true,
   "toc_window_display": false
  },
  "varInspector": {
   "cols": {
    "lenName": 16,
    "lenType": 16,
    "lenVar": 40
   },
   "kernels_config": {
    "python": {
     "delete_cmd_postfix": "",
     "delete_cmd_prefix": "del ",
     "library": "var_list.py",
     "varRefreshCmd": "print(var_dic_list())"
    },
    "r": {
     "delete_cmd_postfix": ") ",
     "delete_cmd_prefix": "rm(",
     "library": "var_list.r",
     "varRefreshCmd": "cat(var_dic_list()) "
    }
   },
   "types_to_exclude": [
    "module",
    "function",
    "builtin_function_or_method",
    "instance",
    "_Feature"
   ],
   "window_display": false
  }
 },
 "nbformat": 4,
 "nbformat_minor": 2
}
