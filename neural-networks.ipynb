{
 "cells": [
  {
   "cell_type": "markdown",
   "metadata": {},
   "source": [
    "### Perceptron\n",
    "\n",
    "From [brilliant.org](https://brilliant.org/practice/perceptron-limitations/?chapter=perceptrons):\n",
    "\n",
    "The **perceptron** algorithm **divides a vector space into two classes**. Colloquially speaking, for it to succeed on all points in training data, the **points must be completely separable**. This is known as **linear separability**, as we seek to find lines (or higher-dimensional equivalents) that correctly classify all of the data.\n",
    "\n",
    "The reason we use linear models is that they have many nice properties. For example, linear models are simple and have few parameters to learn, thus requiring less training data to learn reliably. Moreover, linear models are visually and intuitively appealing, providing intuition on understanding the structure of the decision boundaries. However, because they’re so simple, the perceptron algorithm has several **limitations**:\n",
    "\n",
    "* perceptron algorithm **doesn't perform well on non-linearly** separable data\n",
    "\n",
    "* **outliers** greatly affect its convergence rate\n",
    "\n",
    "* resulting **hyperplane might not be the best one**\n",
    "\n",
    "(see section Limitations of perceptron)."
   ]
  },
  {
   "cell_type": "markdown",
   "metadata": {},
   "source": [
    "<img src='img/nn_pic1.png' width='300'>"
   ]
  },
  {
   "cell_type": "markdown",
   "metadata": {},
   "source": [
    "#### Define `perceptron`"
   ]
  },
  {
   "cell_type": "code",
   "execution_count": 81,
   "metadata": {
    "ExecuteTime": {
     "end_time": "2019-03-08T03:58:52.883771Z",
     "start_time": "2019-03-08T03:58:52.856746Z"
    }
   },
   "outputs": [],
   "source": [
    "import numpy as np\n",
    "\n",
    "def perceptron(w, x, y, i, iteration, max_i, cycle_error,\n",
    "              print_details=False):\n",
    "    \"\"\"\n",
    "    function emulating the logic of perceptron\n",
    "    \n",
    "    loss function is calculated as [[ y_i*(w dot x_i + b) <= 0 ]]\n",
    "    if misclassified (loss == True), adjust weights and bias\n",
    "    call the algorithm recursively until 'max_iterations' is reached\n",
    "    \n",
    "    param: w   -- np.array -- vector of weights (free term 'b' is included)\n",
    "    param: x   -- np.array -- array of vectors (arrays) of inputs\n",
    "                              (free term 'b' is included)\n",
    "    param: y   -- boolean  -- array of labelled results\n",
    "    param: i   -- int      -- current data point\n",
    "    param: iteration -- int -- current iteration of the algorithm\n",
    "    param: max_i     -- int -- max number of iterations allowed\n",
    "    param: cycle_error -- float -- sum of all errors in this cycle\n",
    "    \n",
    "    kwarg: print_details -- boolean -- print details of each iteration\n",
    "                                       (default=False)\n",
    "    \n",
    "    global variable: losses -- int -- number of losses \n",
    "                                      (updated by this function)\n",
    "    global variable: runs   -- int -- number of iterations\n",
    "                                      (updated by this function)\n",
    "    global variable: cycle -- int  -- current cycle\n",
    "                                      (updated by this function)\n",
    "    global variable: error_dict -- dict -- dictionary with total error\n",
    "                                           from each cycle\n",
    "    \n",
    "    returns: perceptron(w, x, y, i) -- recursively calls itself\n",
    "                                                  until 'max_i'\n",
    "                                                  is reached\n",
    "    \"\"\"\n",
    "    # global variables -- number of losses, number of runs\n",
    "    global losses, runs, cycle, error_dict\n",
    "    \n",
    "    # print headers\n",
    "    if iteration == 0: print(\"\\n----- Perceptron -----\")\n",
    "      \n",
    "    # classification -- w dot x_i (term 'b' included as last in 'w' and 'x')\n",
    "    classi = w.dot(x[i])\n",
    "    \n",
    "    # calculate the loss function\n",
    "    loss = y[i] * classi <= 0\n",
    "    \n",
    "    if print_details:\n",
    "        print(\"\\n---Iteration #\", iteration, \":\")\n",
    "        print(\"loss({0}) = y_i({1}) * w({2}) dot x_i({3})\"\n",
    "              .format(loss, y[i], w, x[i]))\n",
    "        print(\"w dot x_i = \", classi)\n",
    "    \n",
    "    # if misclassified, adjust weights\n",
    "    if loss:\n",
    "        # add error to 'cycle_error'\n",
    "        cycle_error += abs(classi)\n",
    "        # THIS PART MIGHT CAUSE ERRORS DUE TO +=\n",
    "        w += y[i] * x[i] # adjust vector of weights\n",
    "        losses += 1\n",
    "        \n",
    "        if print_details:\n",
    "            print(\"Error =\", abs(classi))\n",
    "            print(\"Adjusted wights:\", w)\n",
    "    \n",
    "    # count iterations\n",
    "    iteration += 1\n",
    "    runs = iteration\n",
    "    # move to next data point\n",
    "    i += 1\n",
    "    # reset 'i', if reached the end of 'x'\n",
    "    if i == len(x):\n",
    "        print(\"\\n--Cycle #{0} completed. From {1:,} records, {2:,}({3:.2f}%) \\\n",
    "were misclassified.\\n\".format(cycle, i, losses, losses / i * 100))\n",
    "        print(\"Total cycle error =\", cycle_error)\n",
    "        if losses == 0:\n",
    "            print(\"No records misclasified on this cycle. Exiting...\")\n",
    "            return\n",
    "        losses = 0      # reset losses for the next cycle\n",
    "        error_dict[cycle] = cycle_error # add cycle error to global 'error_dict'\n",
    "        cycle_error = 0 # reset error for the next cycle\n",
    "        i = 0           # reset 'i' for the next cycle\n",
    "        cycle += 1      # count cycles\n",
    "        \n",
    "    # continue until 'max_iterations' is reached\n",
    "    if i < max_i:\n",
    "        return perceptron(w, x, y, i, iteration, max_i, cycle_error, \n",
    "                          print_details=print_details)\n",
    "    else:\n",
    "        print(\"Max iterations reached, stopping...\")\n",
    "        return"
   ]
  },
  {
   "cell_type": "markdown",
   "metadata": {},
   "source": [
    "#### Define `plot_error`"
   ]
  },
  {
   "cell_type": "code",
   "execution_count": 114,
   "metadata": {
    "ExecuteTime": {
     "end_time": "2019-03-08T04:06:38.880808Z",
     "start_time": "2019-03-08T04:06:38.865846Z"
    }
   },
   "outputs": [],
   "source": [
    "from pandas import Series\n",
    "import matplotlib.pyplot as plt\n",
    "\n",
    "def plot_error():\n",
    "    \"\"\"\n",
    "    function to plot error from each cycle\n",
    "    \"\"\"\n",
    "    global error_dict\n",
    "    error_se = Series(error_dict)\n",
    "    \n",
    "    f, ax = plt.subplots(1, figsize=(6, 6))\n",
    "    ax.set_title(\"Total error by cycle\")\n",
    "    ax.set_xlabel(\"Cycle number\")\n",
    "    ax.set_ylabel(\"Sum of abs of all errors\")\n",
    "    ax.set_xticks(np.arange(len(error_se) + 1))\n",
    "    plt.plot(error_se, color='red')\n",
    "    ax.fill_between(x=error_se.index, y1=error_se, y2=0, \n",
    "                    color='red', alpha=0.1)\n",
    "    plt.show()"
   ]
  },
  {
   "cell_type": "markdown",
   "metadata": {},
   "source": [
    "#### No bias term"
   ]
  },
  {
   "cell_type": "code",
   "execution_count": 118,
   "metadata": {
    "ExecuteTime": {
     "end_time": "2019-03-08T04:10:43.029493Z",
     "start_time": "2019-03-08T04:10:42.658172Z"
    }
   },
   "outputs": [
    {
     "name": "stdout",
     "output_type": "stream",
     "text": [
      "Starting weights -- vector w(0): [0. 0. 0.]\n",
      "\n",
      "Data points -- vectors x_i:\n",
      " [[-1.  1.  1.]\n",
      " [ 0. -1.  1.]\n",
      " [10.  1.  1.]]\n",
      "\n",
      "Results -- set of y: [ 1. -1.  1.]\n",
      "\n",
      "----- Perceptron -----\n",
      "\n",
      "---Iteration # 0 :\n",
      "loss(True) = y_i(1.0) * w([0. 0. 0.]) dot x_i([-1.  1.  1.])\n",
      "w dot x_i =  0.0\n",
      "Error = 0.0\n",
      "Adjusted wights: [-1.  1.  1.]\n",
      "\n",
      "---Iteration # 1 :\n",
      "loss(True) = y_i(-1.0) * w([-1.  1.  1.]) dot x_i([ 0. -1.  1.])\n",
      "w dot x_i =  0.0\n",
      "Error = 0.0\n",
      "Adjusted wights: [-1.  2.  0.]\n",
      "\n",
      "---Iteration # 2 :\n",
      "loss(True) = y_i(1.0) * w([-1.  2.  0.]) dot x_i([10.  1.  1.])\n",
      "w dot x_i =  -8.0\n",
      "Error = 8.0\n",
      "Adjusted wights: [9. 3. 1.]\n",
      "\n",
      "--Cycle #1 completed. From 3 records, 3(100.00%) were misclassified.\n",
      "\n",
      "Total cycle error = 8.0\n",
      "\n",
      "---Iteration # 3 :\n",
      "loss(True) = y_i(1.0) * w([9. 3. 1.]) dot x_i([-1.  1.  1.])\n",
      "w dot x_i =  -5.0\n",
      "Error = 5.0\n",
      "Adjusted wights: [8. 4. 2.]\n",
      "\n",
      "---Iteration # 4 :\n",
      "loss(False) = y_i(-1.0) * w([8. 4. 2.]) dot x_i([ 0. -1.  1.])\n",
      "w dot x_i =  -2.0\n",
      "\n",
      "---Iteration # 5 :\n",
      "loss(False) = y_i(1.0) * w([8. 4. 2.]) dot x_i([10.  1.  1.])\n",
      "w dot x_i =  86.0\n",
      "\n",
      "--Cycle #2 completed. From 3 records, 1(33.33%) were misclassified.\n",
      "\n",
      "Total cycle error = 5.0\n",
      "\n",
      "---Iteration # 6 :\n",
      "loss(True) = y_i(1.0) * w([8. 4. 2.]) dot x_i([-1.  1.  1.])\n",
      "w dot x_i =  -2.0\n",
      "Error = 2.0\n",
      "Adjusted wights: [7. 5. 3.]\n",
      "\n",
      "---Iteration # 7 :\n",
      "loss(False) = y_i(-1.0) * w([7. 5. 3.]) dot x_i([ 0. -1.  1.])\n",
      "w dot x_i =  -2.0\n",
      "\n",
      "---Iteration # 8 :\n",
      "loss(False) = y_i(1.0) * w([7. 5. 3.]) dot x_i([10.  1.  1.])\n",
      "w dot x_i =  78.0\n",
      "\n",
      "--Cycle #3 completed. From 3 records, 1(33.33%) were misclassified.\n",
      "\n",
      "Total cycle error = 2.0\n",
      "\n",
      "---Iteration # 9 :\n",
      "loss(False) = y_i(1.0) * w([7. 5. 3.]) dot x_i([-1.  1.  1.])\n",
      "w dot x_i =  1.0\n",
      "\n",
      "---Iteration # 10 :\n",
      "loss(False) = y_i(-1.0) * w([7. 5. 3.]) dot x_i([ 0. -1.  1.])\n",
      "w dot x_i =  -2.0\n",
      "\n",
      "---Iteration # 11 :\n",
      "loss(False) = y_i(1.0) * w([7. 5. 3.]) dot x_i([10.  1.  1.])\n",
      "w dot x_i =  78.0\n",
      "\n",
      "--Cycle #4 completed. From 3 records, 0(0.00%) were misclassified.\n",
      "\n",
      "Total cycle error = 0\n",
      "No records misclasified on this cycle. Exiting...\n"
     ]
    },
    {
     "data": {
      "image/png": "[encoded data removed]",
      "text/plain": [
       "<Figure size 432x432 with 1 Axes>"
      ]
     },
     "metadata": {
      "needs_background": "light"
     },
     "output_type": "display_data"
    }
   ],
   "source": [
    "i = 0                # variable to track current data point\n",
    "cycle = 1        # variable to track number of the cycle\n",
    "iteration = 0        # starting value for iteration tracking\n",
    "max_i = 100           # max iterations allowed \n",
    "losses = 0           # var to track number of losses per cycle, updated by func\n",
    "cycle_error = 0      # var to track total cycle error\n",
    "runs = 0             # var to track total number of runs, updated by function\n",
    "error_dict = dict()  # dictionary to store total error from each cycle\n",
    "\n",
    "# starting vector of weights \n",
    "# (last coordinate represents 'b' from 'w * x_i + b')\n",
    "w = np.array([0., 0., 0.])\n",
    "\n",
    "# set of vectors of points (last coordinate represents 'b' from 'w * x_i + b')\n",
    "x = np.array(\n",
    "    [np.array([-1., 1., 1.]),\n",
    "     np.array([0., -1., 1.]),\n",
    "     np.array([10, 1., 1.])]\n",
    "    )\n",
    "\n",
    "# set of results\n",
    "y = np.array([1., -1., 1.])\n",
    "\n",
    "print(\"Starting weights -- vector w(0):\", w)\n",
    "print(\"\\nData points -- vectors x_i:\\n\", x)\n",
    "print(\"\\nResults -- set of y:\", y)\n",
    "\n",
    "perceptron(w, x, y, i, iteration, max_i, cycle_error, print_details=True)\n",
    "plot_error()"
   ]
  },
  {
   "cell_type": "markdown",
   "metadata": {},
   "source": [
    "#### Training sets with outliers"
   ]
  },
  {
   "cell_type": "code",
   "execution_count": 119,
   "metadata": {
    "ExecuteTime": {
     "end_time": "2019-03-08T04:11:17.165621Z",
     "start_time": "2019-03-08T04:11:16.801310Z"
    }
   },
   "outputs": [
    {
     "name": "stdout",
     "output_type": "stream",
     "text": [
      "Starting weights -- vector w(0): [0 0 0]\n",
      "\n",
      "Data points -- vectors x_i:\n",
      " [[-1  1  1]\n",
      " [ 0 -1  1]\n",
      " [10  1  1]]\n",
      "\n",
      "Results -- set of y: [ 1 -1  1]\n",
      "\n",
      "----- Perceptron -----\n",
      "\n",
      "---Iteration # 0 :\n",
      "loss(True) = y_i(1) * w([0 0 0]) dot x_i([-1  1  1])\n",
      "w dot x_i =  0\n",
      "Error = 0\n",
      "Adjusted wights: [-1  1  1]\n",
      "\n",
      "---Iteration # 1 :\n",
      "loss(True) = y_i(-1) * w([-1  1  1]) dot x_i([ 0 -1  1])\n",
      "w dot x_i =  0\n",
      "Error = 0\n",
      "Adjusted wights: [-1  2  0]\n",
      "\n",
      "---Iteration # 2 :\n",
      "loss(True) = y_i(1) * w([-1  2  0]) dot x_i([10  1  1])\n",
      "w dot x_i =  -8\n",
      "Error = 8\n",
      "Adjusted wights: [9 3 1]\n",
      "\n",
      "--Cycle #1 completed. From 3 records, 3(100.00%) were misclassified.\n",
      "\n",
      "Total cycle error = 8\n",
      "\n",
      "---Iteration # 3 :\n",
      "loss(True) = y_i(1) * w([9 3 1]) dot x_i([-1  1  1])\n",
      "w dot x_i =  -5\n",
      "Error = 5\n",
      "Adjusted wights: [8 4 2]\n",
      "\n",
      "---Iteration # 4 :\n",
      "loss(False) = y_i(-1) * w([8 4 2]) dot x_i([ 0 -1  1])\n",
      "w dot x_i =  -2\n",
      "\n",
      "---Iteration # 5 :\n",
      "loss(False) = y_i(1) * w([8 4 2]) dot x_i([10  1  1])\n",
      "w dot x_i =  86\n",
      "\n",
      "--Cycle #2 completed. From 3 records, 1(33.33%) were misclassified.\n",
      "\n",
      "Total cycle error = 5\n",
      "\n",
      "---Iteration # 6 :\n",
      "loss(True) = y_i(1) * w([8 4 2]) dot x_i([-1  1  1])\n",
      "w dot x_i =  -2\n",
      "Error = 2\n",
      "Adjusted wights: [7 5 3]\n",
      "\n",
      "---Iteration # 7 :\n",
      "loss(False) = y_i(-1) * w([7 5 3]) dot x_i([ 0 -1  1])\n",
      "w dot x_i =  -2\n",
      "\n",
      "---Iteration # 8 :\n",
      "loss(False) = y_i(1) * w([7 5 3]) dot x_i([10  1  1])\n",
      "w dot x_i =  78\n",
      "\n",
      "--Cycle #3 completed. From 3 records, 1(33.33%) were misclassified.\n",
      "\n",
      "Total cycle error = 2\n",
      "\n",
      "---Iteration # 9 :\n",
      "loss(False) = y_i(1) * w([7 5 3]) dot x_i([-1  1  1])\n",
      "w dot x_i =  1\n",
      "\n",
      "---Iteration # 10 :\n",
      "loss(False) = y_i(-1) * w([7 5 3]) dot x_i([ 0 -1  1])\n",
      "w dot x_i =  -2\n",
      "\n",
      "---Iteration # 11 :\n",
      "loss(False) = y_i(1) * w([7 5 3]) dot x_i([10  1  1])\n",
      "w dot x_i =  78\n",
      "\n",
      "--Cycle #4 completed. From 3 records, 0(0.00%) were misclassified.\n",
      "\n",
      "Total cycle error = 0\n",
      "No records misclasified on this cycle. Exiting...\n"
     ]
    },
    {
     "data": {
      "image/png": "[encoded data removed]",
      "text/plain": [
       "<Figure size 432x432 with 1 Axes>"
      ]
     },
     "metadata": {
      "needs_background": "light"
     },
     "output_type": "display_data"
    }
   ],
   "source": [
    "i = 0                # variable to track current data point\n",
    "cycle = 1        # variable to track number of the cycle\n",
    "iteration = 0        # starting value for iteration tracking\n",
    "max_i = 100           # max iterations allowed \n",
    "losses = 0           # var to track number of losses per cycle, updated by func\n",
    "cycle_error = 0      # var to track total cycle error\n",
    "runs = 0             # var to track total number of runs, updated by function\n",
    "error_dict = dict()  # dictionary to store total error from each cycle\n",
    "\n",
    "# starting vector of weights \n",
    "# (last coordinate represents 'b' from 'w * x_i + b')\n",
    "w = np.array([0, 0, 0])\n",
    "\n",
    "# set of vectors of points (last coordinate represents 'b' from 'w * x_i + b')\n",
    "x = np.array(\n",
    "    [np.array([-1, 1, 1]),\n",
    "     np.array([0, -1, 1]),\n",
    "     np.array([10, 1, 1])]\n",
    "    )\n",
    "\n",
    "# set of results\n",
    "y = np.array([1, -1, 1])\n",
    "\n",
    "print(\"Starting weights -- vector w(0):\", w)\n",
    "print(\"\\nData points -- vectors x_i:\\n\", x)\n",
    "print(\"\\nResults -- set of y:\", y)\n",
    "\n",
    "perceptron(w, x, y, i, iteration, max_i, cycle_error, print_details=True)\n",
    "plot_error()"
   ]
  },
  {
   "cell_type": "markdown",
   "metadata": {},
   "source": [
    "Intuitively, an outlier causes the perceptron weight values to ‘overcorrect’ for misclassifying the outlier, and so it could takes more iterations to account for this.\n",
    "\n",
    "This is also evident from an earlier computation. In the case with no bias term (a hyperplane through the origin), each step changed the signed distance from a misclassified point to the boundary by $|x|^2$. Thus, outliers far from the hyperplane will cause very large changes, and the algorithm will accordingly take longer to converge."
   ]
  },
  {
   "cell_type": "markdown",
   "metadata": {},
   "source": [
    "#### Influence of initialization values\n",
    "\n",
    "Given two different initialization values (for weights and bias), but the same training data, is this learning algorithm guaranteed to converge to the same weight and bias parameters?"
   ]
  },
  {
   "cell_type": "markdown",
   "metadata": {},
   "source": [
    "**Starting at $w(0) = \\binom{5}{5}$ and $b(5) = 0$**"
   ]
  },
  {
   "cell_type": "code",
   "execution_count": 121,
   "metadata": {
    "ExecuteTime": {
     "end_time": "2019-03-08T04:12:37.227294Z",
     "start_time": "2019-03-08T04:12:36.970013Z"
    }
   },
   "outputs": [
    {
     "name": "stdout",
     "output_type": "stream",
     "text": [
      "Starting weights -- vector w(0): [5 5 5]\n",
      "\n",
      "Data points -- vectors x_i:\n",
      " [[-1  1  1]\n",
      " [ 0 -1  1]\n",
      " [10  1  1]]\n",
      "\n",
      "Results -- set of y: [ 1 -1  1]\n",
      "\n",
      "----- Perceptron -----\n",
      "\n",
      "--Cycle #1 completed. From 3 records, 1(33.33%) were misclassified.\n",
      "\n",
      "Total cycle error = 0\n",
      "\n",
      "--Cycle #2 completed. From 3 records, 0(0.00%) were misclassified.\n",
      "\n",
      "Total cycle error = 0\n",
      "No records misclasified on this cycle. Exiting...\n"
     ]
    },
    {
     "data": {
      "image/png": "[encoded data removed]",
      "text/plain": [
       "<Figure size 432x432 with 1 Axes>"
      ]
     },
     "metadata": {
      "needs_background": "light"
     },
     "output_type": "display_data"
    }
   ],
   "source": [
    "i = 0                # variable to track current data point\n",
    "cycle = 1        # variable to track number of the cycle\n",
    "iteration = 0        # starting value for iteration tracking\n",
    "max_i = 100           # max iterations allowed \n",
    "losses = 0           # var to track number of losses per cycle, updated by func\n",
    "cycle_error = 0      # var to track total cycle error\n",
    "runs = 0             # var to track total number of runs, updated by function\n",
    "error_dict = dict()  # dictionary to store total error from each cycle\n",
    "\n",
    "# starting vector of weights \n",
    "# (last coordinate represents 'b' from 'w * x_i + b')\n",
    "w = np.array([5, 5, 5])\n",
    "\n",
    "# set of vectors of points (last coordinate represents 'b' from 'w * x_i + b')\n",
    "x = np.array(\n",
    "    [np.array([-1, 1, 1]),\n",
    "     np.array([0, -1, 1]),\n",
    "     np.array([10, 1, 1])]\n",
    "    )\n",
    "\n",
    "# set of results\n",
    "y = np.array([1, -1, 1])\n",
    "\n",
    "print(\"Starting weights -- vector w(0):\", w)\n",
    "print(\"\\nData points -- vectors x_i:\\n\", x)\n",
    "print(\"\\nResults -- set of y:\", y)\n",
    "\n",
    "perceptron(w, x, y, i, iteration, max_i, cycle_error)\n",
    "plot_error()"
   ]
  },
  {
   "cell_type": "markdown",
   "metadata": {},
   "source": [
    "**Converged to a different point**"
   ]
  },
  {
   "cell_type": "markdown",
   "metadata": {},
   "source": [
    "**Starting at $w(0) = \\binom{-13}{-7}$ and $b(0) = 1$**"
   ]
  },
  {
   "cell_type": "code",
   "execution_count": 123,
   "metadata": {
    "ExecuteTime": {
     "end_time": "2019-03-08T04:14:15.731778Z",
     "start_time": "2019-03-08T04:14:15.400572Z"
    }
   },
   "outputs": [
    {
     "name": "stdout",
     "output_type": "stream",
     "text": [
      "Starting weights -- vector w(0): [-13  -7   1]\n",
      "\n",
      "Data points -- vectors x_i:\n",
      " [[-1  1  1]\n",
      " [ 0 -1  1]\n",
      " [10  1  1]]\n",
      "\n",
      "Results -- set of y: [ 1 -1  1]\n",
      "\n",
      "----- Perceptron -----\n",
      "\n",
      "--Cycle #1 completed. From 3 records, 2(66.67%) were misclassified.\n",
      "\n",
      "Total cycle error = 144\n",
      "\n",
      "--Cycle #2 completed. From 3 records, 3(100.00%) were misclassified.\n",
      "\n",
      "Total cycle error = 49\n",
      "\n",
      "--Cycle #3 completed. From 3 records, 2(66.67%) were misclassified.\n",
      "\n",
      "Total cycle error = 10\n",
      "\n",
      "--Cycle #4 completed. From 3 records, 2(66.67%) were misclassified.\n",
      "\n",
      "Total cycle error = 5\n",
      "\n",
      "--Cycle #5 completed. From 3 records, 2(66.67%) were misclassified.\n",
      "\n",
      "Total cycle error = 0\n",
      "\n",
      "--Cycle #6 completed. From 3 records, 0(0.00%) were misclassified.\n",
      "\n",
      "Total cycle error = 0\n",
      "No records misclasified on this cycle. Exiting...\n"
     ]
    },
    {
     "data": {
      "image/png": "[encoded data removed]",
      "text/plain": [
       "<Figure size 432x432 with 1 Axes>"
      ]
     },
     "metadata": {
      "needs_background": "light"
     },
     "output_type": "display_data"
    }
   ],
   "source": [
    "i = 0                # variable to track current data point\n",
    "cycle = 1        # variable to track number of the cycle\n",
    "iteration = 0        # starting value for iteration tracking\n",
    "max_i = 100           # max iterations allowed \n",
    "losses = 0           # var to track number of losses per cycle, updated by func\n",
    "runs = 0             # var to track total number of runs, updated by function\n",
    "error_dict = dict()  # dictionary to store total error from each cycle\n",
    "\n",
    "# starting vector of weights \n",
    "# (last coordinate represents 'b' from 'w * x_i + b')\n",
    "w = np.array([-13, -7, 1])\n",
    "\n",
    "# set of vectors of points (last coordinate represents 'b' from 'w * x_i + b')\n",
    "x = np.array(\n",
    "    [np.array([-1, 1, 1]),\n",
    "     np.array([0, -1, 1]),\n",
    "     np.array([10, 1, 1])]\n",
    "    )\n",
    "\n",
    "# set of results\n",
    "y = np.array([1, -1, 1])\n",
    "\n",
    "print(\"Starting weights -- vector w(0):\", w)\n",
    "print(\"\\nData points -- vectors x_i:\\n\", x)\n",
    "print(\"\\nResults -- set of y:\", y)\n",
    "\n",
    "perceptron(w, x, y, i, iteration, max_i, cycle_error)\n",
    "plot_error()"
   ]
  },
  {
   "cell_type": "markdown",
   "metadata": {},
   "source": [
    "**Converged to a different point**"
   ]
  },
  {
   "cell_type": "markdown",
   "metadata": {},
   "source": [
    "This highlights an **important limitation of perceptron** - while we can find a hyperplane that linearly separates the data, we don’t know this hyperplane is even the best one. "
   ]
  },
  {
   "cell_type": "markdown",
   "metadata": {},
   "source": [
    "#### Limitations of perceptron\n",
    "\n",
    "A massive drawback of the naive perceptron learning algorithm is that it **will not converge if the training data are not linearly separable**. Our naive perceptron algorithm can't classify data that is not linearly separable, but we can get around this.\n",
    "\n",
    "Previously, we iterated $w$ and $b$ until there were no more errors. Since we know we'll never get no errors, every time we update $w$ calculate its error rate on all the data. We could introduce a condition that if we do not see an improvement greater than some small value of $\\gamma$ over the past $N$ iterations, we could consider our weights and bias final. "
   ]
  },
  {
   "cell_type": "markdown",
   "metadata": {},
   "source": [
    "#### Hinge loss function\n",
    "\n",
    "Consider another example of perceptron that perfectly classifies the data but is unlikely to generalize well:\n",
    "\n",
    "<img src='img/nn_pic2.png' width=300>"
   ]
  },
  {
   "cell_type": "markdown",
   "metadata": {},
   "source": [
    "Intuitively, a better solution for the hyperplane would lie closer to the \"middle\" of the two sets of points. In order to ensure this, we need to measure errors in a more refined manner than simply counting misclassified points.\n",
    "\n",
    "One possible loss function is known as **hinge loss**:\n",
    "\n",
    "$ L(x_i, y_i, w, b) = \\max{\\{0, 1 - y_i(w\\cdot{x_i} + b)}\\} $"
   ]
  },
  {
   "cell_type": "markdown",
   "metadata": {},
   "source": [
    "The basic idea is that we will have a greater loss if the point is farther from the right side of the boundary- and we'll even penalize points which are \"barely\" correctly classified.\n",
    "\n",
    "Geometrically, we are introducing parallel boundaries around the decision boundary known as the margin boundaries. In order for a point to get 0 loss, it would have to be both on the correct side of the decision boundary and outside of the margin boundaries."
   ]
  },
  {
   "cell_type": "markdown",
   "metadata": {},
   "source": [
    "<img src='img/nn_pic3.png' width=300>"
   ]
  },
  {
   "cell_type": "markdown",
   "metadata": {},
   "source": [
    "The positive training point outside the margin would have 0 hinge loss, while the positive training point inside the margin - while classified correctly, would still incur some small loss. \n",
    "\n",
    "Hinge loss penalizes dividing lines which are close to the points they're classifying, even when those points are on the correct side. So, the best classifier is going to be one with that's fairly far from every data point"
   ]
  },
  {
   "cell_type": "markdown",
   "metadata": {},
   "source": [
    "While we want to minimize the hinge loss, $L$, we also saw earlier that the perceptron algorithm is greatly influenced by outliers.\n",
    "\n",
    "Thus, we want to minimize the hinge loss, but we also don't want to make our update of $w(k-1)\\to w(k)$ too large in a given step (i.e., to be overly impacted by an outlier)."
   ]
  },
  {
   "cell_type": "markdown",
   "metadata": {},
   "source": [
    "#### Basis functions\n",
    "\n",
    "The perceptron algorithm gives us a way to draw a line between two groups of points. In order to be able to converge and successfully separate the groups, this requires that there exists a line that successfully separates them. We say that such a line exists if two groups of points are linearly separable. Thus, perceptron algorithm cannot converge if the two groups are not linearly separable.\n",
    "\n",
    "However, when two groups of points are not linearly separable, there may be a way to transform the coordinates under which we get linearly separable points. These transformations are called basis functions, and can be anything. For instance, suppose you have points $(x, y)$, then you could map these to the one-dimensional point $\\phi((x, y)) = y - x$."
   ]
  },
  {
   "cell_type": "markdown",
   "metadata": {},
   "source": [
    "##### Example of data that is not separated linearly"
   ]
  },
  {
   "cell_type": "markdown",
   "metadata": {},
   "source": [
    "If we encounter the following data pattern,\n",
    "\n",
    "<img src='img/nn_pic4.png' width=300>"
   ]
  },
  {
   "cell_type": "markdown",
   "metadata": {},
   "source": [
    "we can apply **polar transformation** to the data so as to make the points linearly separable. If we solve the following equations for $(r, \\theta)$:\n",
    "\n",
    "$x = r \\cos{\\theta}$\n",
    "\n",
    "$y = r \\sin{\\theta},~\\theta \\in [0, 2\\pi]$\n",
    "\n",
    "and plot the results on an $(r, \\theta)$ plane, we obtain the following:"
   ]
  },
  {
   "cell_type": "markdown",
   "metadata": {},
   "source": [
    "<img src='img/nn_pic5.png' width=400>"
   ]
  },
  {
   "cell_type": "markdown",
   "metadata": {},
   "source": [
    "##### Another example of data that is not separated linearly"
   ]
  },
  {
   "cell_type": "markdown",
   "metadata": {},
   "source": [
    "This data is not linearly separable:\n",
    "\n",
    "<img src='img/nn_pic6.png' width-300>"
   ]
  },
  {
   "cell_type": "markdown",
   "metadata": {},
   "source": [
    "But once again, we can apply transformation $ x \\mapsto x^2 $ to make this data linearly separable. The transformation $x \\mapsto x^2$ works since it effectively utilizes the \"dimension\" that separates the points--namely its sign. Monotonically increasing functions like $x^3$, $e^x$ don't do that. $\\text{sgn}(x)$ does utilize the sign dimension, but it loses the \"size\" dimension."
   ]
  },
  {
   "cell_type": "markdown",
   "metadata": {},
   "source": [
    "#### The universal approximation theorem\n",
    "\n",
    "In the last two problems, we relied on our mathematical intuition to find basis functions under which the data became linearly separable. In general, though, we'd love to have a way to automatically generate basis functions for any dataset.\n",
    "\n",
    "The **universal approximation theorem** gives us an inspiration for such functions. Let $f(x)$ be a continuous function where $x$ may be a multidimensional vector, and let $\\sigma$ be the logistic function. Then, the universal approximation theorem tells us that there exists an $N$ for which we can write"
   ]
  },
  {
   "cell_type": "markdown",
   "metadata": {},
   "source": [
    "$ F(x) = \\sum \\limits_{i=1}^N c_i \\sigma (\\omega_i \\cdot{x} + b_i) $\n",
    "\n",
    "such that $|F(x) - f(x)| < \\epsilon$ for all $x$."
   ]
  },
  {
   "cell_type": "markdown",
   "metadata": {},
   "source": [
    "Here, $c_i$ and $b_i$ are arbitrary constants, while $\\omega_i$ is a vector of the same size as $N$. Additionally, $\\epsilon$ is an arbitrarily small value."
   ]
  },
  {
   "cell_type": "markdown",
   "metadata": {},
   "source": [
    "The main takeaway of the theorem is that **we can approximate an arbitrarily complex function** (which may be a **decision boundary**) arbitrarily well **by summing together many logistic functions**. This tells us that a more complicated model, such as the multistage perceptron, should be able to approximate significantly more complicated functions."
   ]
  },
  {
   "cell_type": "code",
   "execution_count": null,
   "metadata": {},
   "outputs": [],
   "source": []
  }
 ],
 "metadata": {
  "kernelspec": {
   "display_name": "Python 3",
   "language": "python",
   "name": "python3"
  },
  "language_info": {
   "codemirror_mode": {
    "name": "ipython",
    "version": 3
   },
   "file_extension": ".py",
   "mimetype": "text/x-python",
   "name": "python",
   "nbconvert_exporter": "python",
   "pygments_lexer": "ipython3",
   "version": "3.7.2"
  },
  "toc": {
   "base_numbering": 1,
   "nav_menu": {},
   "number_sections": true,
   "sideBar": true,
   "skip_h1_title": false,
   "title_cell": "Table of Contents",
   "title_sidebar": "Contents",
   "toc_cell": false,
   "toc_position": {},
   "toc_section_display": true,
   "toc_window_display": false
  },
  "varInspector": {
   "cols": {
    "lenName": 16,
    "lenType": 16,
    "lenVar": 40
   },
   "kernels_config": {
    "python": {
     "delete_cmd_postfix": "",
     "delete_cmd_prefix": "del ",
     "library": "var_list.py",
     "varRefreshCmd": "print(var_dic_list())"
    },
    "r": {
     "delete_cmd_postfix": ") ",
     "delete_cmd_prefix": "rm(",
     "library": "var_list.r",
     "varRefreshCmd": "cat(var_dic_list()) "
    }
   },
   "types_to_exclude": [
    "module",
    "function",
    "builtin_function_or_method",
    "instance",
    "_Feature"
   ],
   "window_display": false
  }
 },
 "nbformat": 4,
 "nbformat_minor": 2
}
